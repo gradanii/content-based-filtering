{
 "cells": [
  {
   "cell_type": "code",
   "execution_count": 1,
   "metadata": {},
   "outputs": [
    {
     "name": "stdout",
     "output_type": "stream",
     "text": [
      "   movieId                               title  \\\n",
      "0        1                    Toy Story (1995)   \n",
      "1        2                      Jumanji (1995)   \n",
      "2        3             Grumpier Old Men (1995)   \n",
      "3        4            Waiting to Exhale (1995)   \n",
      "4        5  Father of the Bride Part II (1995)   \n",
      "\n",
      "                                        genres  \n",
      "0  Adventure|Animation|Children|Comedy|Fantasy  \n",
      "1                   Adventure|Children|Fantasy  \n",
      "2                               Comedy|Romance  \n",
      "3                         Comedy|Drama|Romance  \n",
      "4                                       Comedy  \n"
     ]
    }
   ],
   "source": [
    "import pandas as pd\n",
    "\n",
    "films = pd.read_csv('ml-latest-small/movies.csv')\n",
    "\n",
    "print(films.head())"
   ]
  },
  {
   "cell_type": "code",
   "execution_count": 2,
   "metadata": {},
   "outputs": [
    {
     "data": {
      "text/plain": [
       "0       [Adventure, Animation, Children, Comedy, Fantasy]\n",
       "1                          [Adventure, Children, Fantasy]\n",
       "2                                       [Comedy, Romance]\n",
       "3                                [Comedy, Drama, Romance]\n",
       "4                                                [Comedy]\n",
       "                              ...                        \n",
       "9737                 [Action, Animation, Comedy, Fantasy]\n",
       "9738                         [Animation, Comedy, Fantasy]\n",
       "9739                                              [Drama]\n",
       "9740                                  [Action, Animation]\n",
       "9741                                             [Comedy]\n",
       "Name: genres, Length: 9742, dtype: object"
      ]
     },
     "execution_count": 2,
     "metadata": {},
     "output_type": "execute_result"
    }
   ],
   "source": [
    "genres = films['genres'].str.split('|')\n",
    "\n",
    "genres"
   ]
  },
  {
   "cell_type": "code",
   "execution_count": 3,
   "metadata": {},
   "outputs": [
    {
     "name": "stdout",
     "output_type": "stream",
     "text": [
      "   movieId                               title  \\\n",
      "0        1                    Toy Story (1995)   \n",
      "1        2                      Jumanji (1995)   \n",
      "2        3             Grumpier Old Men (1995)   \n",
      "3        4            Waiting to Exhale (1995)   \n",
      "4        5  Father of the Bride Part II (1995)   \n",
      "\n",
      "                                              genres  \n",
      "0  [Adventure, Animation, Children, Comedy, Fantasy]  \n",
      "1                     [Adventure, Children, Fantasy]  \n",
      "2                                  [Comedy, Romance]  \n",
      "3                           [Comedy, Drama, Romance]  \n",
      "4                                           [Comedy]  \n"
     ]
    }
   ],
   "source": [
    "movies = films.copy()\n",
    "movies.loc[:, 'genres'] = genres\n",
    "\n",
    "print(movies.head())"
   ]
  },
  {
   "cell_type": "markdown",
   "metadata": {},
   "source": []
  },
  {
   "cell_type": "code",
   "execution_count": 4,
   "metadata": {},
   "outputs": [
    {
     "data": {
      "text/plain": [
       "array([[0, 0, 1, ..., 0, 0, 0],\n",
       "       [0, 0, 1, ..., 0, 0, 0],\n",
       "       [0, 0, 0, ..., 0, 0, 0],\n",
       "       ...,\n",
       "       [0, 0, 0, ..., 0, 0, 0],\n",
       "       [0, 1, 0, ..., 0, 0, 0],\n",
       "       [0, 0, 0, ..., 0, 0, 0]], shape=(9742, 20))"
      ]
     },
     "execution_count": 4,
     "metadata": {},
     "output_type": "execute_result"
    }
   ],
   "source": [
    "from sklearn.preprocessing import MultiLabelBinarizer\n",
    "\n",
    "mlb = MultiLabelBinarizer()\n",
    "\n",
    "df = movies.copy()\n",
    "\n",
    "df_binarized = mlb.fit_transform(df['genres'])\n",
    "\n",
    "df_binarized"
   ]
  },
  {
   "cell_type": "code",
   "execution_count": 5,
   "metadata": {},
   "outputs": [
    {
     "data": {
      "text/plain": [
       "['(no genres listed)',\n",
       " 'Action',\n",
       " 'Adventure',\n",
       " 'Animation',\n",
       " 'Children',\n",
       " 'Comedy',\n",
       " 'Crime',\n",
       " 'Documentary',\n",
       " 'Drama',\n",
       " 'Fantasy',\n",
       " 'Film-Noir',\n",
       " 'Horror',\n",
       " 'IMAX',\n",
       " 'Musical',\n",
       " 'Mystery',\n",
       " 'Romance',\n",
       " 'Sci-Fi',\n",
       " 'Thriller',\n",
       " 'War',\n",
       " 'Western']"
      ]
     },
     "execution_count": 5,
     "metadata": {},
     "output_type": "execute_result"
    }
   ],
   "source": [
    "list(mlb.classes_)"
   ]
  },
  {
   "cell_type": "code",
   "execution_count": 6,
   "metadata": {},
   "outputs": [
    {
     "name": "stdout",
     "output_type": "stream",
     "text": [
      "[[1.         0.77459667 0.31622777 0.25819889 0.4472136 ]\n",
      " [0.77459667 1.         0.         0.         0.        ]\n",
      " [0.31622777 0.         1.         0.81649658 0.70710678]\n",
      " [0.25819889 0.         0.81649658 1.         0.57735027]\n",
      " [0.4472136  0.         0.70710678 0.57735027 1.        ]]\n"
     ]
    }
   ],
   "source": [
    "from sklearn.metrics import pairwise_distances\n",
    "from scipy.spatial.distance import cosine\n",
    "\n",
    "cosine_similarities = 1-pairwise_distances(df_binarized, metric='cosine')\n",
    "\n",
    "print(cosine_similarities[:5, :5])"
   ]
  },
  {
   "cell_type": "code",
   "execution_count": 7,
   "metadata": {},
   "outputs": [
    {
     "data": {
      "text/plain": [
       "np.float64(0.0)"
      ]
     },
     "execution_count": 7,
     "metadata": {},
     "output_type": "execute_result"
    }
   ],
   "source": [
    "movie = df[df['title'].str.contains('age of ultron', case=False, na=False)].index[0]\n",
    "movie\n",
    "\n",
    "cosine_similarities[8686, 9714]"
   ]
  },
  {
   "cell_type": "code",
   "execution_count": 8,
   "metadata": {},
   "outputs": [
    {
     "data": {
      "text/plain": [
       "6727         Street Kings (2008)\n",
       "2475          Boiler Room (2000)\n",
       "9374       The Accountant (2016)\n",
       "9375             Imperium (2016)\n",
       "6659    Cassandra's Dream (2007)\n",
       "Name: title, dtype: object"
      ]
     },
     "execution_count": 8,
     "metadata": {},
     "output_type": "execute_result"
    }
   ],
   "source": [
    "def movie_recommender(movie_name):\n",
    "    df.reset_index()\n",
    "    movie = df[df['title'].str.contains(movie_name.title(), case=False, na=False)].index[0]\n",
    "    similar_movies = cosine_similarities[movie].argsort()[::-1][1:6]\n",
    "    recommendation = df.iloc[similar_movies]['title']\n",
    "    return recommendation\n",
    "\n",
    "movie_recommender(input())"
   ]
  },
  {
   "cell_type": "code",
   "execution_count": 9,
   "metadata": {},
   "outputs": [
    {
     "name": "stdout",
     "output_type": "stream",
     "text": [
      "   userId  movieId  rating                        title  \\\n",
      "0       1        1     4.0             Toy Story (1995)   \n",
      "1       1        3     4.0      Grumpier Old Men (1995)   \n",
      "2       1        6     4.0                  Heat (1995)   \n",
      "3       1       47     5.0  Seven (a.k.a. Se7en) (1995)   \n",
      "4       1       50     5.0   Usual Suspects, The (1995)   \n",
      "\n",
      "                                              genres  \n",
      "0  [Adventure, Animation, Children, Comedy, Fantasy]  \n",
      "1                                  [Comedy, Romance]  \n",
      "2                          [Action, Crime, Thriller]  \n",
      "3                                [Mystery, Thriller]  \n",
      "4                         [Crime, Mystery, Thriller]  \n"
     ]
    }
   ],
   "source": [
    "ratings = pd.read_csv('ml-latest-small/ratings.csv')\n",
    "df = ratings.merge(movies, on='movieId')\n",
    "df = df.drop(columns=['timestamp'])\n",
    "\n",
    "print(df.head())"
   ]
  },
  {
   "cell_type": "code",
   "execution_count": 10,
   "metadata": {},
   "outputs": [
    {
     "data": {
      "text/plain": [
       "torch.Size([1, 610, 9719])"
      ]
     },
     "execution_count": 10,
     "metadata": {},
     "output_type": "execute_result"
    }
   ],
   "source": [
    "from torchvision.transforms.functional import to_tensor\n",
    "\n",
    "useritem_matrix = df.pivot_table(index='userId', columns='title', values='rating', fill_value=0)\n",
    "useritem_matrix = useritem_matrix.to_numpy()\n",
    "useritem_tensor = to_tensor(useritem_matrix)\n",
    "useritem_tensor.shape"
   ]
  },
  {
   "cell_type": "code",
   "execution_count": 11,
   "metadata": {},
   "outputs": [
    {
     "data": {
      "text/plain": [
       "torch.return_types.linalg_svd(\n",
       "U=tensor([[[ 5.5554e-02,  6.1675e-02, -1.0898e-02,  ...,  3.0200e-03,\n",
       "          -2.9025e-04,  4.3090e-04],\n",
       "         [ 5.8663e-03, -1.7738e-02, -4.4238e-03,  ..., -3.2674e-03,\n",
       "          -8.8687e-03,  8.8603e-04],\n",
       "         [ 1.3558e-03,  2.0737e-03,  1.7134e-03,  ..., -2.3453e-03,\n",
       "          -2.0808e-03, -1.5509e-03],\n",
       "         ...,\n",
       "         [ 1.1611e-01,  1.1845e-02, -9.7664e-03,  ...,  8.8508e-04,\n",
       "          -7.6575e-04,  1.3795e-03],\n",
       "         [ 7.5794e-03,  1.3785e-02, -3.9741e-02,  ...,  1.2189e-02,\n",
       "          -3.2129e-03, -1.7574e-02],\n",
       "         [ 1.3886e-01, -2.0219e-01,  9.2669e-02,  ..., -7.6931e-05,\n",
       "          -3.3862e-04,  7.0527e-04]]], dtype=torch.float64),\n",
       "S=tensor([[534.4209, 231.2361, 191.1513, 170.4226, 154.5538, 147.3359, 135.6559,\n",
       "         122.6614, 121.4392, 113.1229, 109.6005, 107.9337, 105.9723, 102.0401,\n",
       "          99.8580,  99.3077,  97.1087,  93.4096,  92.3162,  90.9771,  90.4270,\n",
       "          88.8285,  87.2876,  86.0539,  85.1525,  83.0449,  82.4079,  81.7317,\n",
       "          80.8604,  79.5174,  79.1683,  78.8400,  77.9975,  76.7038,  75.6220,\n",
       "          75.4017,  74.9638,  74.2909,  74.0509,  73.4483,  73.2228,  72.4681,\n",
       "          71.7069,  70.2039,  70.0172,  69.9340,  69.5020,  69.0746,  68.4311,\n",
       "          67.8626,  67.4977,  67.4815,  67.0631,  66.5846,  66.0797,  65.4604,\n",
       "          64.9320,  64.8482,  64.3344,  63.9270,  63.8023,  63.6497,  63.2112,\n",
       "          63.0167,  62.8332,  62.2982,  61.7171,  61.5451,  61.2393,  60.8037,\n",
       "          60.5364,  60.2009,  59.9323,  59.7746,  59.3476,  59.2085,  59.0394,\n",
       "          58.6193,  58.3018,  58.2181,  58.0293,  57.7707,  57.5190,  57.3298,\n",
       "          57.0854,  56.9406,  56.7813,  56.1784,  56.0607,  55.5409,  55.3949,\n",
       "          55.1680,  54.9670,  54.6549,  54.5236,  54.3167,  54.1393,  53.8234,\n",
       "          53.6353,  53.2423,  53.1711,  52.9807,  52.7498,  52.3970,  52.2434,\n",
       "          52.1181,  52.0893,  51.8289,  51.5950,  51.2386,  51.0451,  50.8980,\n",
       "          50.6363,  50.3491,  50.2929,  49.9020,  49.7091,  49.6186,  49.1837,\n",
       "          49.1584,  48.8944,  48.7233,  48.5681,  48.3525,  48.2448,  48.0190,\n",
       "          47.8950,  47.6595,  47.6233,  47.2543,  46.9988,  46.7189,  46.5911,\n",
       "          46.5268,  46.3796,  46.1680,  45.8397,  45.7554,  45.6376,  45.3299,\n",
       "          45.1522,  45.0010,  44.7034,  44.5167,  44.3610,  44.2079,  44.1486,\n",
       "          44.0918,  43.9265,  43.9182,  43.5922,  43.4961,  43.3840,  43.3455,\n",
       "          42.9341,  42.9111,  42.8316,  42.6604,  42.4230,  42.2129,  42.0321,\n",
       "          41.8820,  41.7452,  41.6623,  41.3155,  41.0476,  40.8736,  40.7904,\n",
       "          40.6531,  40.4915,  40.3374,  40.2876,  40.1000,  39.8745,  39.7587,\n",
       "          39.6989,  39.5622,  39.4737,  39.3349,  39.2651,  39.0900,  38.8595,\n",
       "          38.6449,  38.4915,  38.3206,  38.2509,  38.1964,  37.9122,  37.7859,\n",
       "          37.5663,  37.4361,  37.2579,  37.0975,  37.0233,  37.0109,  36.8783,\n",
       "          36.6348,  36.5855,  36.5092,  36.2043,  36.1310,  36.0500,  35.9288,\n",
       "          35.8389,  35.6395,  35.4364,  35.3105,  35.2638,  35.1855,  34.9495,\n",
       "          34.8551,  34.7641,  34.5508,  34.5044,  34.3858,  34.2762,  34.2741,\n",
       "          34.0359,  34.0224,  33.8928,  33.7910,  33.6686,  33.4933,  33.3965,\n",
       "          33.2871,  33.2254,  33.1600,  32.9750,  32.8634,  32.8223,  32.5931,\n",
       "          32.4207,  32.3643,  32.2034,  32.0598,  31.9446,  31.8579,  31.8515,\n",
       "          31.7849,  31.5160,  31.3862,  31.2273,  31.1562,  31.0291,  30.8748,\n",
       "          30.8332,  30.7336,  30.5904,  30.5394,  30.3194,  30.2264,  30.1530,\n",
       "          30.0941,  30.0123,  29.9942,  29.9040,  29.7876,  29.6301,  29.4522,\n",
       "          29.3890,  29.3468,  29.2321,  29.1323,  29.0401,  28.8827,  28.8096,\n",
       "          28.7035,  28.5335,  28.4764,  28.4501,  28.3553,  28.2657,  28.1085,\n",
       "          28.0318,  27.9422,  27.8177,  27.7751,  27.5569,  27.5006,  27.4560,\n",
       "          27.4237,  27.3974,  27.2125,  27.1834,  27.0984,  26.9226,  26.8193,\n",
       "          26.7598,  26.7368,  26.6555,  26.5292,  26.4972,  26.3693,  26.3168,\n",
       "          26.1914,  26.1396,  26.0652,  26.0254,  25.8671,  25.8516,  25.7580,\n",
       "          25.7493,  25.5101,  25.4942,  25.3594,  25.3460,  25.2548,  25.1478,\n",
       "          25.0653,  25.0053,  24.8787,  24.8319,  24.7198,  24.6516,  24.6439,\n",
       "          24.5523,  24.4318,  24.3467,  24.1804,  24.1356,  24.0621,  23.9931,\n",
       "          23.8661,  23.8300,  23.7318,  23.7196,  23.6083,  23.5333,  23.4758,\n",
       "          23.3371,  23.2917,  23.1985,  23.1765,  23.0611,  23.0230,  22.9450,\n",
       "          22.9195,  22.8408,  22.7535,  22.6588,  22.6250,  22.5202,  22.4992,\n",
       "          22.4020,  22.3026,  22.2416,  22.1927,  22.1435,  22.0926,  21.9603,\n",
       "          21.8616,  21.8496,  21.7783,  21.7668,  21.6233,  21.5484,  21.5033,\n",
       "          21.4738,  21.4179,  21.3223,  21.2894,  21.2103,  21.1129,  21.0724,\n",
       "          21.0167,  20.9465,  20.8991,  20.8313,  20.7845,  20.6684,  20.5841,\n",
       "          20.5375,  20.4869,  20.4252,  20.3752,  20.2234,  20.2028,  20.0968,\n",
       "          19.9905,  19.9763,  19.9101,  19.8688,  19.8427,  19.7054,  19.6604,\n",
       "          19.6096,  19.5697,  19.5335,  19.4836,  19.4428,  19.4081,  19.2701,\n",
       "          19.2460,  19.1772,  19.1483,  19.0890,  18.9554,  18.9414,  18.8594,\n",
       "          18.7675,  18.7359,  18.7061,  18.6232,  18.5966,  18.5675,  18.4805,\n",
       "          18.4224,  18.3189,  18.2516,  18.1935,  18.1661,  18.1023,  18.0531,\n",
       "          17.9897,  17.8806,  17.8461,  17.8246,  17.7719,  17.6944,  17.6660,\n",
       "          17.5902,  17.5790,  17.5263,  17.4466,  17.3564,  17.3137,  17.2390,\n",
       "          17.1986,  17.1454,  17.0658,  17.0129,  16.9393,  16.9057,  16.8791,\n",
       "          16.8314,  16.7808,  16.6987,  16.6678,  16.5503,  16.5400,  16.4581,\n",
       "          16.4265,  16.4068,  16.3431,  16.2360,  16.2012,  16.1428,  16.0383,\n",
       "          16.0254,  15.9913,  15.9366,  15.8616,  15.8367,  15.7582,  15.6967,\n",
       "          15.6657,  15.6025,  15.5552,  15.4921,  15.4378,  15.3997,  15.3214,\n",
       "          15.2795,  15.2265,  15.1998,  15.1361,  15.0761,  14.9984,  14.9303,\n",
       "          14.8876,  14.8216,  14.7837,  14.7056,  14.6964,  14.6440,  14.5807,\n",
       "          14.5215,  14.4615,  14.4048,  14.3614,  14.3111,  14.2769,  14.2161,\n",
       "          14.2034,  14.0956,  14.0421,  13.9974,  13.9468,  13.9372,  13.8319,\n",
       "          13.7514,  13.7295,  13.6924,  13.5803,  13.5585,  13.4779,  13.4160,\n",
       "          13.3768,  13.3216,  13.2571,  13.2379,  13.1679,  13.1032,  12.9995,\n",
       "          12.9585,  12.8638,  12.8022,  12.7809,  12.7052,  12.6812,  12.6200,\n",
       "          12.6023,  12.4631,  12.4408,  12.3786,  12.3442,  12.3043,  12.2415,\n",
       "          12.1819,  12.1766,  12.0843,  12.0619,  11.9416,  11.8655,  11.8616,\n",
       "          11.7784,  11.7190,  11.6717,  11.6306,  11.5674,  11.4958,  11.4261,\n",
       "          11.4031,  11.3312,  11.2161,  11.1503,  11.1142,  11.0662,  10.9835,\n",
       "          10.9654,  10.9200,  10.8357,  10.8130,  10.7772,  10.7507,  10.6244,\n",
       "          10.5847,  10.5397,  10.3999,  10.3342,  10.3110,  10.2280,  10.1612,\n",
       "          10.1052,  10.0758,   9.9584,   9.8941,   9.7717,   9.7156,   9.6207,\n",
       "           9.5850,   9.5241,   9.4612,   9.3518,   9.3142,   9.2756,   9.1299,\n",
       "           9.0785,   8.9752,   8.9116,   8.8767,   8.7908,   8.7423,   8.6732,\n",
       "           8.5498,   8.4984,   8.3258,   8.2452,   8.1468,   8.0815,   7.9499,\n",
       "           7.8451,   7.8288,   7.7307,   7.6954,   7.3986,   7.3538,   7.2507,\n",
       "           7.1287,   7.0355,   6.8862,   6.7024,   6.5777,   6.5323,   6.3672,\n",
       "           6.2032,   6.0857,   6.0561,   5.9192,   5.7249,   5.3485,   5.1323,\n",
       "           4.9419,   4.7649,   4.5647,   4.4910,   4.3718,   3.8742,   3.1140,\n",
       "           2.9472]], dtype=torch.float64),\n",
       "Vh=tensor([[[ 1.0394e-03,  4.3946e-04,  4.7005e-04,  ...,  1.7503e-03,\n",
       "           1.2169e-02,  5.8668e-05],\n",
       "         [-3.4975e-03, -2.1060e-04,  2.1022e-05,  ..., -4.0282e-03,\n",
       "           1.1740e-02,  1.8858e-04],\n",
       "         [ 1.9392e-03, -1.4790e-04,  7.2028e-05,  ...,  6.7756e-05,\n",
       "           1.1003e-02, -1.7217e-05],\n",
       "         ...,\n",
       "         [ 3.2320e-04, -1.2852e-03,  4.8869e-03,  ...,  9.9431e-01,\n",
       "          -2.0350e-03,  4.8934e-05],\n",
       "         [-6.0400e-02,  1.9843e-02,  8.4782e-05,  ..., -1.6447e-03,\n",
       "           8.5996e-01,  5.0290e-04],\n",
       "         [ 3.0206e-04, -4.3791e-04, -6.6107e-04,  ...,  4.0575e-05,\n",
       "           7.6727e-04,  9.9938e-01]]], dtype=torch.float64))"
      ]
     },
     "execution_count": 11,
     "metadata": {},
     "output_type": "execute_result"
    }
   ],
   "source": [
    "from torch.linalg import svd\n",
    "\n",
    "useritem_matrix_svd = svd(useritem_tensor, full_matrices=True)\n",
    "useritem_matrix_svd"
   ]
  },
  {
   "cell_type": "code",
   "execution_count": 12,
   "metadata": {},
   "outputs": [],
   "source": [
    "import torch\n",
    "\n",
    "svd_U = useritem_matrix_svd[0]\n",
    "svd_S = useritem_matrix_svd[1]\n",
    "svd_Vh = useritem_matrix_svd[2]"
   ]
  },
  {
   "cell_type": "code",
   "execution_count": 13,
   "metadata": {},
   "outputs": [
    {
     "name": "stdout",
     "output_type": "stream",
     "text": [
      "torch.Size([1, 610, 610]) torch.Size([1, 610]) torch.Size([1, 9719, 9719])\n"
     ]
    }
   ],
   "source": [
    "print(svd_U.shape, svd_S.shape, svd_Vh.shape)\n"
   ]
  },
  {
   "cell_type": "code",
   "execution_count": 14,
   "metadata": {},
   "outputs": [
    {
     "data": {
      "text/plain": [
       "tensor([[[-3.8566e-15, -6.0771e-14, -3.9918e-14,  ...,  2.0110e-15,\n",
       "           4.0000e+00, -4.2826e-16],\n",
       "         [ 3.0014e-14,  7.9206e-14, -1.2008e-14,  ..., -1.9993e-16,\n",
       "          -2.3419e-15, -6.3811e-16],\n",
       "         [ 2.4124e-15,  6.5219e-15, -1.5732e-13,  ..., -4.4127e-16,\n",
       "           1.2993e-15,  2.3018e-16],\n",
       "         ...,\n",
       "         [ 3.6822e-14, -3.2483e-14, -2.1023e-14,  ..., -3.6322e-15,\n",
       "           7.5951e-15,  8.3456e-17],\n",
       "         [-4.3877e-15, -9.7752e-16, -3.4755e-16,  ..., -4.1113e-16,\n",
       "          -8.3267e-16,  2.7756e-17],\n",
       "         [ 4.0000e+00, -8.3127e-14, -3.1817e-14,  ...,  1.5000e+00,\n",
       "           7.4940e-15, -4.0939e-16]]], dtype=torch.float64)"
      ]
     },
     "execution_count": 14,
     "metadata": {},
     "output_type": "execute_result"
    }
   ],
   "source": [
    "svd_U_mat = svd_U\n",
    "svd_S_mat = torch.diag_embed(svd_S)\n",
    "svd_Vh_mat = svd_Vh[:, :610, :]\n",
    "\n",
    "svd_matrix = svd_U_mat @ svd_S_mat @ svd_Vh_mat\n",
    "svd_matrix"
   ]
  },
  {
   "cell_type": "code",
   "execution_count": 15,
   "metadata": {},
   "outputs": [
    {
     "data": {
      "text/plain": [
       "True"
      ]
     },
     "execution_count": 15,
     "metadata": {},
     "output_type": "execute_result"
    }
   ],
   "source": [
    "torch.allclose(useritem_tensor, svd_matrix, atol=1e-6)  # Adjust tolerance if needed"
   ]
  },
  {
   "cell_type": "code",
   "execution_count": 16,
   "metadata": {},
   "outputs": [],
   "source": [
    "k = 100  # Choose a fixed number of singular values\n",
    "\n",
    "U_k = svd_U[:, :, :k]  # Keep top-k columns of U\n",
    "S_k_mat = torch.diag_embed(svd_S[:, :k])  # Keep top-k singular values and make diagonal\n",
    "Vh_k = svd_Vh[:, :k, :]  # Keep top-k rows of Vh\n",
    "\n",
    "A_reduced = U_k @ S_k_mat @ Vh_k  # Reconstruct the low-rank matrix\n"
   ]
  },
  {
   "cell_type": "code",
   "execution_count": 17,
   "metadata": {},
   "outputs": [
    {
     "data": {
      "text/plain": [
       "tensor([[[-1.4644e-04,  1.9855e-03,  2.6089e-03,  ..., -1.6980e-03,\n",
       "           3.9902e+00,  3.9167e-04],\n",
       "         [-3.5057e-03, -4.9381e-03, -2.0176e-03,  ...,  4.5122e-03,\n",
       "           2.9462e-02, -5.3825e-04],\n",
       "         [-1.4908e-04,  5.5784e-03,  2.9729e-03,  ...,  7.4938e-04,\n",
       "          -1.6697e-02,  8.0324e-05],\n",
       "         ...,\n",
       "         [-1.7909e-04, -2.2292e-03, -1.0488e-03,  ...,  7.6652e-04,\n",
       "          -4.6936e-03,  5.8369e-05],\n",
       "         [ 1.0216e-03,  2.4268e-02,  2.9653e-02,  ..., -7.0136e-03,\n",
       "           3.9066e-02,  2.2483e-03],\n",
       "         [ 3.9989e+00, -2.9725e-04, -4.1607e-04,  ...,  1.4998e+00,\n",
       "           1.6774e-03,  1.2441e-04]]], dtype=torch.float64)"
      ]
     },
     "execution_count": 17,
     "metadata": {},
     "output_type": "execute_result"
    }
   ],
   "source": [
    "from torch import topk\n",
    "\n",
    "energy = torch.cumsum(svd_S,  dim=-1)/torch.sum(svd_S, dim=-1, keepdim=True)\n",
    "k = (energy >= 0.95).nonzero(as_tuple=True)[1][0].item()\n",
    "\n",
    "U_tk = svd_U[:, :, :k]\n",
    "S_tk = torch.diag_embed(svd_S[:, :k])\n",
    "Vh_tk = svd_Vh[:, :k, :]\n",
    "\n",
    "svd_matrix_tk = U_tk @ S_tk @ Vh_tk\n",
    "svd_matrix_tk"
   ]
  },
  {
   "cell_type": "code",
   "execution_count": 18,
   "metadata": {},
   "outputs": [
    {
     "data": {
      "text/plain": [
       "(tensor(0.0482, dtype=torch.float64), tensor(0.1680, dtype=torch.float64))"
      ]
     },
     "execution_count": 18,
     "metadata": {},
     "output_type": "execute_result"
    }
   ],
   "source": [
    "mask = useritem_tensor != 0\n",
    "l1_error = torch.abs(useritem_tensor[mask] - svd_matrix_tk[mask]).mean()\n",
    "l2_error = torch.sqrt(torch.mean((useritem_tensor[mask] - svd_matrix_tk[mask]) ** 2))\n",
    "l1_error, l2_error"
   ]
  },
  {
   "cell_type": "code",
   "execution_count": null,
   "metadata": {},
   "outputs": [],
   "source": []
  }
 ],
 "metadata": {
  "kernelspec": {
   "display_name": "venv",
   "language": "python",
   "name": "python3"
  },
  "language_info": {
   "codemirror_mode": {
    "name": "ipython",
    "version": 3
   },
   "file_extension": ".py",
   "mimetype": "text/x-python",
   "name": "python",
   "nbconvert_exporter": "python",
   "pygments_lexer": "ipython3",
   "version": "3.12.1"
  }
 },
 "nbformat": 4,
 "nbformat_minor": 2
}
